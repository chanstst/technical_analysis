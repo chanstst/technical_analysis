{
 "cells": [
  {
   "cell_type": "markdown",
   "metadata": {},
   "source": [
    "# HK Download"
   ]
  },
  {
   "cell_type": "markdown",
   "metadata": {},
   "source": [
    "### Importing libaries"
   ]
  },
  {
   "cell_type": "code",
   "execution_count": 1,
   "metadata": {},
   "outputs": [],
   "source": [
    "import numpy as np\n",
    "import pandas as pd\n",
    "import yfinance as yf\n",
    "from datetime import datetime, date, timedelta"
   ]
  },
  {
   "cell_type": "code",
   "execution_count": 2,
   "metadata": {},
   "outputs": [],
   "source": [
    "import sys\n",
    "sys.path.insert(0, '../common')\n",
    "from myfunctions_selected import *"
   ]
  },
  {
   "cell_type": "code",
   "execution_count": 3,
   "metadata": {},
   "outputs": [],
   "source": [
    "root = \"../\""
   ]
  },
  {
   "cell_type": "code",
   "execution_count": 5,
   "metadata": {},
   "outputs": [],
   "source": [
    "def download_price_vol(file_tickers, start_date, end_date):\n",
    "    \"\"\"\n",
    "    Download share price and volume data\n",
    "    Save it separate csv files - adj, volume, open, close, high low\n",
    "    \"\"\"\n",
    "\n",
    "    root = \"../\"\n",
    "    data = pd.read_csv(file_tickers, index_col=None, header=None, names=[\"tickers\", \"names\"], engine=\"python\")\n",
    "    stock = data[\"tickers\"].to_list()\n",
    "\n",
    "    df = yf.download(tuple(stock), start=start_date, end=end_date)\n",
    "    df = df.rename(columns={'Adj Close': 'Adj'})\n",
    "    \n",
    "    # delete second last row if the index is duplicated\n",
    "    df = remove_repeated_row(df)\n",
    "    \n",
    "    # separate out Adj, Volume, Open, Close, High, Low\n",
    "    df.Adj.to_csv(root + \"data/adj.csv\")\n",
    "    df.Volume.to_csv(root + \"data/volume.csv\")\n",
    "    df.Open.to_csv(root + \"data/open.csv\")\n",
    "    df.Close.to_csv(root + \"data/close.csv\")\n",
    "    df.High.to_csv(root + \"data/high.csv\")\n",
    "    df.Low.to_csv(root + \"data/low.csv\")\n",
    "\n",
    "    return None"
   ]
  },
  {
   "cell_type": "markdown",
   "metadata": {},
   "source": [
    "#### Download all data\n",
    "- Case 1: download today's new data and add to existing data\n",
    "- Case 2: add new stocks (historical prices needed), download data as of past 400 days\n",
    "- Case 3: download all data for all stocks"
   ]
  },
  {
   "cell_type": "code",
   "execution_count": 8,
   "metadata": {
    "scrolled": true
   },
   "outputs": [
    {
     "name": "stdout",
     "output_type": "stream",
     "text": [
      "[*********************100%***********************]  1298 of 1298 completed\n",
      "\n",
      "2 Failed downloads:\n",
      "- 2303.HK: No data found for this date range, symbol may be delisted\n",
      "- 2345.HK: No data found for this date range, symbol may be delisted\n",
      "last second row repetitive - removed\n",
      "                  Adj                                                      \\\n",
      "              0001.HK    0002.HK 0003.HK    0004.HK    0005.HK    0006.HK   \n",
      "2021-03-08  60.549999  73.449997   11.70  18.700001  47.600002  44.450001   \n",
      "2021-03-09  63.500000  74.000000   11.86  18.959999  48.596859  44.599998   \n",
      "2021-03-10  61.549999  73.699997   11.74  19.480000  47.600002  44.450001   \n",
      "2021-03-11  61.700001  73.449997   11.72  19.160000  46.900002  44.599998   \n",
      "2021-03-12  61.049999  73.650002   11.68  19.340000  45.750000  44.549999   \n",
      "\n",
      "                                                      ...    Volume           \\\n",
      "           0008.HK    0010.HK     0011.HK    0012.HK  ...   9988.HK  9989.HK   \n",
      "2021-03-08    4.43  19.240000  149.100006  33.700001  ...  24540546  1747000   \n",
      "2021-03-09    4.44  19.440001  151.699997  34.200001  ...  35249748  1120251   \n",
      "2021-03-10    4.49  19.320000  151.100006  33.900002  ...  30292760  1423362   \n",
      "2021-03-11    4.45  19.559999  152.399994  33.950001  ...  29228815  1388700   \n",
      "2021-03-12    4.47  19.459999  151.399994  33.900002  ...  34231547  1252500   \n",
      "\n",
      "                                                                           \\\n",
      "            9990.HK 9991.HK   9992.HK  9993.HK  9995.HK  9996.HK  9997.HK   \n",
      "2021-03-08  2338339  140300   8230856  2601000  1036500  3088000  5851500   \n",
      "2021-03-09  1807325  218800  12338170  2397000  1544700  2775705  9364239   \n",
      "2021-03-10  2014769  113500  10658502  1608000   697500  1579000  4910000   \n",
      "2021-03-11   994000  220403   6698422  2637000  1722000  1479000  4399500   \n",
      "2021-03-12  1181331  109000   4691600  2999000  1882900  1252000  5482100   \n",
      "\n",
      "                     \n",
      "            9999.HK  \n",
      "2021-03-08  6025545  \n",
      "2021-03-09  8329962  \n",
      "2021-03-10  5063360  \n",
      "2021-03-11  2438028  \n",
      "2021-03-12  3238379  \n",
      "\n",
      "[5 rows x 7788 columns]\n",
      "adding new data\n",
      "adding new data\n",
      "adding new data\n",
      "adding new data\n",
      "adding new data\n",
      "adding new data\n"
     ]
    }
   ],
   "source": [
    "case = 1 # 1 or 2 or 3\n",
    "fields = [\"adj\", \"volume\", \"open\", \"close\", \"high\", \"low\"]\n",
    "\n",
    "# download all data for all stocks in the past year\n",
    "file_tickers = root + \"data/hk_names.csv\"\n",
    "start_date = (date.today()-timedelta(days=366)).isoformat()\n",
    "end_date = (date.today()+timedelta(days=1)).isoformat()\n",
    "\n",
    "download_price_vol(file_tickers, start_date, end_date)\n",
    "\n",
    "    "
   ]
  },
  {
   "cell_type": "code",
   "execution_count": null,
   "metadata": {},
   "outputs": [],
   "source": []
  },
  {
   "cell_type": "code",
   "execution_count": null,
   "metadata": {},
   "outputs": [],
   "source": []
  }
 ],
 "metadata": {
  "anaconda-cloud": {},
  "kernelspec": {
   "display_name": "Python 3",
   "language": "python",
   "name": "python3"
  },
  "language_info": {
   "codemirror_mode": {
    "name": "ipython",
    "version": 3
   },
   "file_extension": ".py",
   "mimetype": "text/x-python",
   "name": "python",
   "nbconvert_exporter": "python",
   "pygments_lexer": "ipython3",
   "version": "3.7.7"
  }
 },
 "nbformat": 4,
 "nbformat_minor": 2
}
