{
 "cells": [
  {
   "cell_type": "markdown",
   "metadata": {},
   "source": [
    "# HK Download"
   ]
  },
  {
   "cell_type": "markdown",
   "metadata": {},
   "source": [
    "### Importing libaries"
   ]
  },
  {
   "cell_type": "code",
   "execution_count": 1,
   "metadata": {},
   "outputs": [],
   "source": [
    "import numpy as np\n",
    "import pandas as pd\n",
    "import yfinance as yf\n",
    "from datetime import datetime, date, timedelta"
   ]
  },
  {
   "cell_type": "code",
   "execution_count": 2,
   "metadata": {},
   "outputs": [],
   "source": [
    "import sys\n",
    "sys.path.insert(0, '../common')\n",
    "from myfunctions_selected import *"
   ]
  },
  {
   "cell_type": "code",
   "execution_count": 3,
   "metadata": {},
   "outputs": [],
   "source": [
    "root = \"../\""
   ]
  },
  {
   "cell_type": "code",
   "execution_count": 4,
   "metadata": {},
   "outputs": [],
   "source": [
    "def download_price_vol(file_tickers, start_date, end_date):\n",
    "    \"\"\"\n",
    "    Download share price and volume data\n",
    "    Save it separate csv files - adj, volume, open, close, high low\n",
    "    \"\"\"\n",
    "\n",
    "    root = \"../\"\n",
    "    data = pd.read_csv(file_tickers, index_col=None, header=None, names=[\"tickers\"], engine=\"python\")\n",
    "    stock = data[\"tickers\"].to_list()\n",
    "\n",
    "    df = yf.download(tuple(stock), start=start_date, end=end_date)\n",
    "    df = df.rename(columns={'Adj Close': 'Adj'})\n",
    "    \n",
    "    # delete second last row if the index is duplicated\n",
    "    df = remove_repeated_row(df)\n",
    "    \n",
    "    # separate out Adj, Volume, Open, Close, High, Low\n",
    "    df.Adj.to_csv(root + \"data/adj.csv\")\n",
    "    df.Volume.to_csv(root + \"data/volume.csv\")\n",
    "    df.Open.to_csv(root + \"data/open.csv\")\n",
    "    df.Close.to_csv(root + \"data/close.csv\")\n",
    "    df.High.to_csv(root + \"data/high.csv\")\n",
    "    df.Low.to_csv(root + \"data/low.csv\")\n",
    "\n",
    "    return None"
   ]
  },
  {
   "cell_type": "markdown",
   "metadata": {},
   "source": [
    "#### Download all data\n"
   ]
  },
  {
   "cell_type": "code",
   "execution_count": 5,
   "metadata": {},
   "outputs": [],
   "source": [
    "file_tickers = root + \"user_input/selected_stocks.csv\""
   ]
  },
  {
   "cell_type": "code",
   "execution_count": 6,
   "metadata": {
    "scrolled": true
   },
   "outputs": [
    {
     "name": "stdout",
     "output_type": "stream",
     "text": [
      "[*********************100%***********************]  10 of 10 completed\n"
     ]
    }
   ],
   "source": [
    "fields = [\"adj\", \"volume\", \"open\", \"close\", \"high\", \"low\"]\n",
    "\n",
    "# download all data for all stocks in the past year\n",
    "# note that the stock codes are based on Yahoo Finance (https://finance.yahoo.com)\n",
    "\n",
    "start_date = (date.today()-timedelta(days=366)).isoformat()\n",
    "end_date = (date.today()+timedelta(days=1)).isoformat()\n",
    "\n",
    "download_price_vol(file_tickers, start_date, end_date)\n",
    "\n",
    "    "
   ]
  }
 ],
 "metadata": {
  "anaconda-cloud": {},
  "kernelspec": {
   "display_name": "Python 3",
   "language": "python",
   "name": "python3"
  },
  "language_info": {
   "codemirror_mode": {
    "name": "ipython",
    "version": 3
   },
   "file_extension": ".py",
   "mimetype": "text/x-python",
   "name": "python",
   "nbconvert_exporter": "python",
   "pygments_lexer": "ipython3",
   "version": "3.7.7"
  }
 },
 "nbformat": 4,
 "nbformat_minor": 2
}
